{
 "cells": [
  {
   "cell_type": "code",
   "execution_count": 1,
   "metadata": {},
   "outputs": [],
   "source": [
    "import pandas as pd"
   ]
  },
  {
   "cell_type": "markdown",
   "metadata": {},
   "source": [
    "# Read Dataset\n",
    "\n",
    "### Since one of datasets has several sheets which all need to be used, I need to read each sheet from one dataset first and then to read all of the dataset."
   ]
  },
  {
   "cell_type": "markdown",
   "metadata": {},
   "source": [
    "### read 3 different datasets"
   ]
  },
  {
   "cell_type": "code",
   "execution_count": 2,
   "metadata": {},
   "outputs": [],
   "source": [
    "growth = pd.read_excel(\"/Users/tanya/Desktop/IS590 OM/OM DATASETS/public_use-industry-employment-growth.xlsx\",sheet_name='Growth from Industry Transition')\n",
    "skill_pen = pd.read_excel(\"/Users/tanya/Desktop/IS590 OM/OM DATASETS/public_use-skill-penetration.xlsx\",sheet_name='Skill Penetration')\n",
    "ind_skill = pd.read_excel(\"/Users/tanya/Desktop/IS590 OM/OM DATASETS/public_use-industry-skills-needs.xlsx\",sheet_name='Industry Skills Needs')"
   ]
  },
  {
   "cell_type": "markdown",
   "metadata": {},
   "source": [
    "### read 3 sheets in one dataset "
   ]
  },
  {
   "cell_type": "code",
   "execution_count": 3,
   "metadata": {},
   "outputs": [],
   "source": [
    "industry=pd.read_excel(\"/Users/tanya/Desktop/IS590 OM/OM DATASETS/public_use-talent-migration.xlsx\", sheet_name='Industry Migration')\n",
    "skill = pd.read_excel(\"/Users/tanya/Desktop/IS590 OM/OM DATASETS/public_use-talent-migration.xlsx\", sheet_name='Skill Migration')\n",
    "country = pd.read_excel(\"/Users/tanya/Desktop/IS590 OM/OM DATASETS/public_use-talent-migration.xlsx\", sheet_name='Country Migration')"
   ]
  },
  {
   "cell_type": "markdown",
   "metadata": {},
   "source": [
    "### read each sheet in one dataset"
   ]
  },
  {
   "cell_type": "code",
   "execution_count": 4,
   "metadata": {},
   "outputs": [],
   "source": [
    "education_major= pd.read_excel(\"/Users/tanya/Desktop/IS590 OM/OM DATASETS/education_and_major.xlsm\",sheet_name=\"Major\")\n",
    "education_skill= pd.read_excel(\"/Users/tanya/Desktop/IS590 OM/OM DATASETS/education_and_major.xlsm\",sheet_name=\"Skill\")"
   ]
  },
  {
   "cell_type": "markdown",
   "metadata": {},
   "source": [
    "# Select Certain Columns \n",
    "\n",
    "### Since we need to combine all datasets together, we need to choose the primary key and foreign key of each dataset first. Then we pick up the columns which we need. All columns we need are shown in the coding part."
   ]
  },
  {
   "cell_type": "code",
   "execution_count": 5,
   "metadata": {},
   "outputs": [],
   "source": [
    "growth_from_ind=growth[['country_name','wb_income','wb_region','isic_section_name','industry_name','growth_rate_2015','growth_rate_2016','growth_rate_2017','growth_rate_2018']]\n",
    "industry_migration=industry[['country_name','wb_income','wb_region','isic_section_name','industry_name','net_per_10K_2015','net_per_10K_2016','net_per_10K_2017','net_per_10K_2018']]\n",
    "skill_migration=skill[['country_name','wb_income','wb_region','skill_group_category','skill_group_name','net_per_10K_2015','net_per_10K_2016','net_per_10K_2017','net_per_10K_2018']]"
   ]
  },
  {
   "cell_type": "code",
   "execution_count": 6,
   "metadata": {},
   "outputs": [],
   "source": [
    "skill_penetration=skill_pen[['year','isic_section_name','industry_name','skill_group_category','skill_group_name','skill_group_penetration_rate']]\n",
    "ind_skill_needs=ind_skill[['year','isic_section_name','industry_name','skill_group_category','skill_group_name','skill_group_rank']]"
   ]
  },
  {
   "cell_type": "markdown",
   "metadata": {},
   "source": [
    "### Check Each Column's Data Type of Each Dataset"
   ]
  },
  {
   "cell_type": "code",
   "execution_count": 7,
   "metadata": {},
   "outputs": [
    {
     "data": {
      "text/plain": [
       "country_name             object\n",
       "wb_income                object\n",
       "wb_region                object\n",
       "skill_group_category     object\n",
       "skill_group_name         object\n",
       "net_per_10K_2015        float64\n",
       "net_per_10K_2016        float64\n",
       "net_per_10K_2017        float64\n",
       "net_per_10K_2018        float64\n",
       "dtype: object"
      ]
     },
     "execution_count": 7,
     "metadata": {},
     "output_type": "execute_result"
    }
   ],
   "source": [
    "growth_from_ind.dtypes\n",
    "skill_penetration.dtypes\n",
    "ind_skill_needs.dtypes\n",
    "industry_migration.dtypes\n",
    "skill_migration.dtypes"
   ]
  },
  {
   "cell_type": "markdown",
   "metadata": {},
   "source": [
    "### Delete all the null value"
   ]
  },
  {
   "cell_type": "code",
   "execution_count": 8,
   "metadata": {},
   "outputs": [],
   "source": [
    "skill_penetration=skill_penetration[pd.notnull(skill_penetration['skill_group_penetration_rate'])]\n",
    "ind_skill_needs=ind_skill_needs[pd.notnull(ind_skill_needs['skill_group_rank'])]"
   ]
  },
  {
   "cell_type": "code",
   "execution_count": 9,
   "metadata": {},
   "outputs": [],
   "source": [
    "growth_from_ind=growth_from_ind[pd.notnull(growth_from_ind['growth_rate_2015'])]\n",
    "growth_from_ind=growth_from_ind[pd.notnull(growth_from_ind['growth_rate_2016'])]\n",
    "growth_from_ind=growth_from_ind[pd.notnull(growth_from_ind['growth_rate_2017'])]\n",
    "growth_from_ind=growth_from_ind[pd.notnull(growth_from_ind['growth_rate_2018'])]"
   ]
  },
  {
   "cell_type": "markdown",
   "metadata": {},
   "source": [
    "# Combine Various Dataset"
   ]
  },
  {
   "cell_type": "markdown",
   "metadata": {},
   "source": [
    "### Step 1 combine skill penetration and industry skill needs called skill_part by using the outer merge. Although it will have some NA values, I still want to keep all the industry name and skill name."
   ]
  },
  {
   "cell_type": "code",
   "execution_count": 10,
   "metadata": {},
   "outputs": [],
   "source": [
    "skill_part=pd.merge(skill_penetration,ind_skill_needs, how='outer', on=['year','isic_section_name','industry_name','skill_group_category','skill_group_name'])"
   ]
  },
  {
   "cell_type": "markdown",
   "metadata": {},
   "source": [
    "### Step 2 seperate the skill group penetration rate according to the year.Since the origianl file is vertical, I want to change them to horizontal for the further combination."
   ]
  },
  {
   "cell_type": "code",
   "execution_count": 11,
   "metadata": {},
   "outputs": [],
   "source": [
    "df1 = skill_part[skill_part['year'] == 2015].drop(columns=['year'])\n",
    "df2 = skill_part[skill_part['year'] == 2016].drop(columns=['year'])\n",
    "df3 = skill_part[skill_part['year'] == 2017].drop(columns=['year'])\n",
    "df4 = skill_part[skill_part['year'] == 2018].drop(columns=['year'])"
   ]
  },
  {
   "cell_type": "markdown",
   "metadata": {},
   "source": [
    "### Step 3 rename the seperated skill group penetration rate"
   ]
  },
  {
   "cell_type": "code",
   "execution_count": 12,
   "metadata": {},
   "outputs": [],
   "source": [
    "df1=df1.rename(columns={'skill_group_penetration_rate':'skill_group_penetration_rate_2015','skill_group_rank':'skill_group_rank_2015'})\n",
    "df2=df2.rename(columns={'skill_group_penetration_rate':'skill_group_penetration_rate_2016','skill_group_rank':'skill_group_rank_2016'})\n",
    "df3=df3.rename(columns={'skill_group_penetration_rate':'skill_group_penetration_rate_2017','skill_group_rank':'skill_group_rank_2017'})\n",
    "df4=df4.rename(columns={'skill_group_penetration_rate':'skill_group_penetration_rate_2018','skill_group_rank':'skill_group_rank_2018'})"
   ]
  },
  {
   "cell_type": "markdown",
   "metadata": {},
   "source": [
    "### Step 4 combine the the skill group penetration rate as a new table called final_skill_part.Here I will use the outer to combine all the skill group penetration rate. "
   ]
  },
  {
   "cell_type": "code",
   "execution_count": 13,
   "metadata": {},
   "outputs": [],
   "source": [
    "final_skill_part=pd.merge(df1,df2, how='outer',on=['isic_section_name','industry_name','skill_group_category','skill_group_name'])\n",
    "final_skill_part=pd.merge(final_skill_part,df3, how='outer',on=['isic_section_name','industry_name','skill_group_category','skill_group_name'])\n",
    "final_skill_part=pd.merge(final_skill_part,df4, how='outer',on=['isic_section_name','industry_name','skill_group_category','skill_group_name'])"
   ]
  },
  {
   "cell_type": "code",
   "execution_count": 14,
   "metadata": {},
   "outputs": [],
   "source": [
    "final_skill_part=final_skill_part[['isic_section_name','industry_name','skill_group_category','skill_group_name',\"skill_group_penetration_rate_2015\",'skill_group_penetration_rate_2016',\"skill_group_penetration_rate_2017\",\"skill_group_penetration_rate_2018\",\"skill_group_rank_2015\",\"skill_group_rank_2016\",\"skill_group_rank_2017\",\"skill_group_rank_2018\"]]"
   ]
  },
  {
   "cell_type": "markdown",
   "metadata": {},
   "source": [
    "### Step 5 combine industry_migration with final_skill_part and drop the net_per_10k_YYYY columns called industry_combination. I will use the left combine to merge to datasetst since I want to keep all the industry index and name information."
   ]
  },
  {
   "cell_type": "code",
   "execution_count": 15,
   "metadata": {},
   "outputs": [],
   "source": [
    "industry_combination=pd.merge(industry_migration,final_skill_part,how='left',on=['isic_section_name','industry_name'])\n",
    "industry_combination=industry_combination.drop(columns=['net_per_10K_2015','net_per_10K_2016','net_per_10K_2017','net_per_10K_2018'])"
   ]
  },
  {
   "cell_type": "markdown",
   "metadata": {},
   "source": [
    "### Step 6 combine the skill_migration with fill_skill part called skill_combination and drop the duplicated skill group penetration and skill group rank. I use the left merge to keep all the skill information such as name and category."
   ]
  },
  {
   "cell_type": "code",
   "execution_count": 16,
   "metadata": {},
   "outputs": [],
   "source": [
    "skill_combination=pd.merge(skill_migration,final_skill_part,how='left',on=['skill_group_category','skill_group_name'])\n",
    "skill_combination=skill_combination.drop(columns=['skill_group_penetration_rate_2015','skill_group_penetration_rate_2016','skill_group_penetration_rate_2017','skill_group_penetration_rate_2018'])\n",
    "skill_combination=skill_combination.drop(columns=['skill_group_rank_2015','skill_group_rank_2016','skill_group_rank_2017','skill_group_rank_2018'])"
   ]
  },
  {
   "cell_type": "markdown",
   "metadata": {},
   "source": [
    "### Step 7 Combine industry combination and skill combination dataset called ind_skill_combination.I use the inner combination to deal with the large amount of NA values.It still show all the information that I want to keep about the industry and skill."
   ]
  },
  {
   "cell_type": "code",
   "execution_count": 17,
   "metadata": {},
   "outputs": [],
   "source": [
    "ind_skill_combination=pd.merge(skill_combination,industry_combination,how='inner',on=['country_name','wb_income','wb_region','isic_section_name','industry_name','skill_group_category','skill_group_name'])"
   ]
  },
  {
   "cell_type": "markdown",
   "metadata": {},
   "source": [
    "### Step 8 Combine education skill and education major to be a new education table called education. The inner combination help me to deal with the NA value of the education. Actually, it does not have any NA values to be deleted during the inner combination."
   ]
  },
  {
   "cell_type": "code",
   "execution_count": 18,
   "metadata": {},
   "outputs": [],
   "source": [
    "education=pd.merge(education_skill,education_major,how='inner',on=['Program'])"
   ]
  },
  {
   "cell_type": "markdown",
   "metadata": {},
   "source": [
    "### Step 9 Final Combine the ind_skill_combination and education called final_dataset. The inner combination could help me to delete the useless NA values but keep all the informations that I need"
   ]
  },
  {
   "cell_type": "code",
   "execution_count": 19,
   "metadata": {},
   "outputs": [],
   "source": [
    "final_dataset=pd.merge(ind_skill_combination,education,how='inner',on=['skill_group_name'])"
   ]
  },
  {
   "cell_type": "markdown",
   "metadata": {},
   "source": [
    "# The output of the final dataset"
   ]
  },
  {
   "cell_type": "code",
   "execution_count": 20,
   "metadata": {},
   "outputs": [],
   "source": [
    "final_dataset.to_csv(r'/Users/tanya/Desktop/IS590 OM/OM DATASETS/skill_migration_features.csv')"
   ]
  }
 ],
 "metadata": {
  "kernelspec": {
   "display_name": "Python 3",
   "language": "python",
   "name": "python3"
  },
  "language_info": {
   "codemirror_mode": {
    "name": "ipython",
    "version": 3
   },
   "file_extension": ".py",
   "mimetype": "text/x-python",
   "name": "python",
   "nbconvert_exporter": "python",
   "pygments_lexer": "ipython3",
   "version": "3.7.3"
  }
 },
 "nbformat": 4,
 "nbformat_minor": 2
}
